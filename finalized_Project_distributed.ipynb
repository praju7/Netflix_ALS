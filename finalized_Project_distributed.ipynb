{
 "cells": [
  {
   "cell_type": "markdown",
   "id": "4bbcd96b",
   "metadata": {},
   "source": [
    "Netfix data analyzation"
   ]
  },
  {
   "cell_type": "code",
   "execution_count": 1,
   "id": "e2e6c70d",
   "metadata": {},
   "outputs": [],
   "source": [
    "import os\n",
    "from pyspark.sql.types import *\n",
    "from pyspark.sql.functions import regexp_extract\n",
    "from pyspark.sql.types import *\n",
    "from pyspark.sql import functions as F\n",
    "from pyspark.sql import functions as F\n",
    "from pyspark.ml.evaluation import RegressionEvaluator\n",
    "from pyspark.ml.recommendation import ALS\n",
    "from pyspark.sql import Row\n",
    "from pyspark.sql import Row\n",
    "\n",
    "dir = 's3://dsci6007y1'\n",
    "movie_file = dir + '/movie_titles.txt'\n",
    "Train = dir + '/TrainingRatings.txt'\n",
    "test = dir + '/TestingRatings.txt'"
   ]
  },
  {
   "cell_type": "code",
   "execution_count": 4,
   "id": "4cb206a6",
   "metadata": {},
   "outputs": [],
   "source": [
    "from pyspark.sql.types import *\n",
    "\n",
    "movie_schema = StructType(  [StructField('ID', IntegerType()),   StructField('movie_year', IntegerType()),   StructField('movie_title', StringType())])\n",
    "tr_schema = StructType(  [StructField('movie_Id', IntegerType()),   StructField('user_Id', IntegerType()),   StructField('movie_ratings', FloatType())])\n",
    "testschema = StructType(  [StructField('movie_Id', IntegerType()),   StructField('user_Id', IntegerType()),   StructField('movie_ratings', FloatType())])\n"
   ]
  },
  {
   "cell_type": "markdown",
   "id": "6bda0588",
   "metadata": {},
   "source": [
    "Importing libraries"
   ]
  },
  {
   "cell_type": "code",
   "execution_count": 5,
   "id": "234ec2fb",
   "metadata": {},
   "outputs": [
    {
     "name": "stderr",
     "output_type": "stream",
     "text": [
      "                                                                                \r"
     ]
    },
    {
     "name": "stdout",
     "output_type": "stream",
     "text": [
      "There are  17770  movietitle, 3255352  trainingRatings and 100478  testingRatings in the datasets\n"
     ]
    }
   ],
   "source": [
    "m_t = sqlContext.read.format('csv').options(inferSchema=False).schema(movie_schema).load(movie_file)\n",
    "train_r = sqlContext.read.format('csv').options(inferSchema=False).schema(tr_schema).load(Train)\n",
    "test_r = sqlContext.read.format('csv').options(inferSchema=False).schema(testschema).load(test)\n",
    "movie_count = m_t.count()\n",
    "m_count = m_t.count()\n",
    "train_count = train_r.count()\n",
    "t_count = train_r.count()\n",
    "Test_count = test_r.count()\n",
    "tst_count = test_r.count()\n",
    "print('There are ',m_count,' movietitle,',t_count,' trainingRatings and',tst_count,' testingRatings in the datasets' )"
   ]
  },
  {
   "cell_type": "code",
   "execution_count": 6,
   "id": "81d0103b",
   "metadata": {},
   "outputs": [
    {
     "name": "stdout",
     "output_type": "stream",
     "text": [
      "The Movie_titles are:\n",
      "+---+----------+--------------------+\n",
      "| ID|movie_year|         movie_title|\n",
      "+---+----------+--------------------+\n",
      "|  1|      2003|     Dinosaur Planet|\n",
      "|  2|      2004|Isle of Man TT 20...|\n",
      "|  3|      1997|           Character|\n",
      "|  4|      1994|Paula Abdul's Get...|\n",
      "+---+----------+--------------------+\n",
      "only showing top 4 rows\n",
      "\n"
     ]
    }
   ],
   "source": [
    "print('The Movie_titles are:')\n",
    "m_t.show(4)"
   ]
  },
  {
   "cell_type": "code",
   "execution_count": 7,
   "id": "1e0e2dfa",
   "metadata": {},
   "outputs": [
    {
     "name": "stdout",
     "output_type": "stream",
     "text": [
      "The TrainingRatings for the films are:\n",
      "+--------+-------+-------------+\n",
      "|movie_Id|user_Id|movie_ratings|\n",
      "+--------+-------+-------------+\n",
      "|       8|1744889|          1.0|\n",
      "|       8|1395430|          2.0|\n",
      "|       8|1205593|          4.0|\n",
      "|       8|1488844|          4.0|\n",
      "+--------+-------+-------------+\n",
      "only showing top 4 rows\n",
      "\n"
     ]
    }
   ],
   "source": [
    "print ('The TrainingRatings for the films are:')\n",
    "train_r.show(4)"
   ]
  },
  {
   "cell_type": "code",
   "execution_count": 8,
   "id": "9b7e58f3",
   "metadata": {},
   "outputs": [
    {
     "name": "stdout",
     "output_type": "stream",
     "text": [
      "The TestingRatings are:\n",
      "+--------+-------+-------------+\n",
      "|movie_Id|user_Id|movie_ratings|\n",
      "+--------+-------+-------------+\n",
      "|       8| 573364|          1.0|\n",
      "|       8|2149668|          3.0|\n",
      "|       8|1089184|          3.0|\n",
      "|       8|2465894|          3.0|\n",
      "+--------+-------+-------------+\n",
      "only showing top 4 rows\n",
      "\n"
     ]
    }
   ],
   "source": [
    "print ('The TestingRatings are:')\n",
    "test_r.show(4)"
   ]
  },
  {
   "cell_type": "code",
   "execution_count": 9,
   "id": "d2c3fbe3",
   "metadata": {},
   "outputs": [],
   "source": [
    "assert movie_count == m_count\n",
    "assert train_count == t_count\n",
    "assert Test_count == tst_count"
   ]
  },
  {
   "cell_type": "code",
   "execution_count": 10,
   "id": "bb8bc48c",
   "metadata": {},
   "outputs": [
    {
     "name": "stderr",
     "output_type": "stream",
     "text": [
      "                                                                                \r"
     ]
    },
    {
     "name": "stdout",
     "output_type": "stream",
     "text": [
      "+--------+-------+-------------+\n",
      "|movie_Id|user_Id|movie_ratings|\n",
      "+--------+-------+-------------+\n",
      "|     992|2149668|          3.0|\n",
      "|    1202|2149668|          3.0|\n",
      "|    1289|2149668|          1.0|\n",
      "|    1305|2149668|          3.0|\n",
      "|    2015|2149668|          5.0|\n",
      "|    2212|2149668|          3.0|\n",
      "|    2342|2149668|          4.0|\n",
      "|    2601|2149668|          3.0|\n",
      "|    2675|2149668|          3.0|\n",
      "|    2755|2149668|          3.0|\n",
      "|    2913|2149668|          5.0|\n",
      "|    2955|2149668|          5.0|\n",
      "|    3151|2149668|          4.0|\n",
      "|    3253|2149668|          4.0|\n",
      "|    3274|2149668|          2.0|\n",
      "|    3290|2149668|          5.0|\n",
      "|    3355|2149668|          5.0|\n",
      "|    3538|2149668|          4.0|\n",
      "|    4847|2149668|          3.0|\n",
      "|    4849|2149668|          3.0|\n",
      "+--------+-------+-------------+\n",
      "only showing top 20 rows\n",
      "\n"
     ]
    },
    {
     "name": "stderr",
     "output_type": "stream",
     "text": [
      "                                                                                \r"
     ]
    },
    {
     "name": "stdout",
     "output_type": "stream",
     "text": [
      "+--------+-------+-------------+\n",
      "|movie_Id|user_Id|movie_ratings|\n",
      "+--------+-------+-------------+\n",
      "|     992| 306466|          3.0|\n",
      "|     992| 765331|          4.0|\n",
      "|     992|  41412|          3.0|\n",
      "|     992|1331887|          3.0|\n",
      "|     992|1276913|          3.0|\n",
      "|     992| 887273|          4.0|\n",
      "|     992|1663216|          3.0|\n",
      "|     992|1778851|          5.0|\n",
      "|     992|2630287|          5.0|\n",
      "|     992| 530441|          5.0|\n",
      "+--------+-------+-------------+\n",
      "only showing top 10 rows\n",
      "\n",
      "movie_ids_with_avg_ratings_df:\n"
     ]
    },
    {
     "name": "stderr",
     "output_type": "stream",
     "text": [
      "[Stage 25:==============>                                           (1 + 3) / 4]22/05/03 16:13:46 WARN Utils: Truncated the string representation of a plan since it was too large. This behavior can be adjusted by setting 'spark.debug.maxToStringFields' in SparkEnv.conf.\n",
      "                                                                                \r"
     ]
    },
    {
     "name": "stdout",
     "output_type": "stream",
     "text": [
      "+-------+-----+------------------+\n",
      "|user_Id|count|average           |\n",
      "+-------+-----+------------------+\n",
      "|128389 |42   |3.0238095238095237|\n",
      "|2250628|25   |3.24              |\n",
      "|279120 |24   |3.5416666666666665|\n",
      "+-------+-----+------------------+\n",
      "only showing top 3 rows\n",
      "\n"
     ]
    }
   ],
   "source": [
    "user = train_r.filter(\"user_Id == 2149668\")\n",
    "user.show()\n",
    "L1 = user.select('movie_Id')\n",
    "arr = [int(row.movie_Id) for row in L1.collect()]\n",
    "u = train_r[train_r['movie_Id'].isin(arr)]\n",
    "u.show(10)\n",
    "itemsu = u.groupBy('user_Id').agg(F.count(u.movie_ratings).alias(\"count\"),F.avg(u.movie_ratings).alias(\"average\"))\n",
    "print('movie_ids_with_avg_ratings_df:')\n",
    "itemsu.show(3, truncate=False)"
   ]
  },
  {
   "cell_type": "code",
   "execution_count": 11,
   "id": "746c69dd",
   "metadata": {},
   "outputs": [
    {
     "name": "stdout",
     "output_type": "stream",
     "text": [
      "+--------+-------+-------------+\n",
      "|movie_Id|user_Id|movie_ratings|\n",
      "+--------+-------+-------------+\n",
      "|       8|1744889|          1.0|\n",
      "|       8|1395430|          2.0|\n",
      "|       8|1205593|          4.0|\n",
      "|       8|1488844|          4.0|\n",
      "|       8|1447354|          1.0|\n",
      "|       8| 306466|          4.0|\n",
      "|       8|1331154|          4.0|\n",
      "|       8|1818178|          3.0|\n",
      "|       8| 991725|          4.0|\n",
      "|       8|1987434|          4.0|\n",
      "|       8|1765381|          4.0|\n",
      "|       8| 433803|          3.0|\n",
      "|       8|1148143|          2.0|\n",
      "|       8|1174811|          5.0|\n",
      "|       8|1684516|          3.0|\n",
      "|       8| 754781|          4.0|\n",
      "|       8| 567025|          4.0|\n",
      "|       8|1623132|          4.0|\n",
      "|       8|1567095|          3.0|\n",
      "|       8|1666394|          5.0|\n",
      "+--------+-------+-------------+\n",
      "only showing top 20 rows\n",
      "\n"
     ]
    },
    {
     "name": "stderr",
     "output_type": "stream",
     "text": [
      "                                                                                \r"
     ]
    },
    {
     "name": "stdout",
     "output_type": "stream",
     "text": [
      "+--------+-------+-------------+\n",
      "|movie_Id|user_Id|movie_ratings|\n",
      "+--------+-------+-------------+\n",
      "|       8|1744889|          1.0|\n",
      "|       8|1395430|          2.0|\n",
      "|       8|1205593|          4.0|\n",
      "|       8|1488844|          4.0|\n",
      "|       8|1447354|          1.0|\n",
      "|       8| 306466|          4.0|\n",
      "|       8|1331154|          4.0|\n",
      "|       8|1818178|          3.0|\n",
      "|       8| 991725|          4.0|\n",
      "|       8|1987434|          4.0|\n",
      "+--------+-------+-------------+\n",
      "only showing top 10 rows\n",
      "\n",
      "movie_ids_with_avg_ratings_df:\n"
     ]
    },
    {
     "name": "stderr",
     "output_type": "stream",
     "text": [
      "[Stage 31:=============================>                            (2 + 2) / 4]"
     ]
    },
    {
     "name": "stdout",
     "output_type": "stream",
     "text": [
      "+--------+-----+------------------+\n",
      "|movie_Id|count|average           |\n",
      "+--------+-----+------------------+\n",
      "|2366    |191  |2.9214659685863875|\n",
      "|4190    |9    |3.4444444444444446|\n",
      "|3220    |155  |2.7870967741935484|\n",
      "+--------+-----+------------------+\n",
      "only showing top 3 rows\n",
      "\n"
     ]
    },
    {
     "name": "stderr",
     "output_type": "stream",
     "text": [
      "                                                                                \r"
     ]
    }
   ],
   "source": [
    "user = train_r.filter(\"movie_Id == 8\")\n",
    "user.show()\n",
    "L1 = user.select('user_Id')\n",
    "arr = [int(row.user_Id) for row in L1.collect()]\n",
    "u = train_r[train_r['user_Id'].isin(arr)]\n",
    "u.show(10)\n",
    "itemsu = u.groupBy('movie_Id').agg(F.count(u.movie_ratings).alias(\"count\"),F.avg(u.movie_ratings).alias(\"average\"))\n",
    "print('movie_ids_with_avg_ratings_df:')\n",
    "itemsu.show(3, truncate=False)"
   ]
  },
  {
   "cell_type": "code",
   "execution_count": 12,
   "id": "4fabcd08",
   "metadata": {},
   "outputs": [
    {
     "name": "stderr",
     "output_type": "stream",
     "text": [
      "                                                                                \r"
     ]
    }
   ],
   "source": [
    "trainingratings = train_r.toPandas()"
   ]
  },
  {
   "cell_type": "code",
   "execution_count": 13,
   "id": "b47f9d29",
   "metadata": {},
   "outputs": [
    {
     "data": {
      "text/plain": [
       "user_Id\n",
       "305344     1757\n",
       "387418     1744\n",
       "2439493    1640\n",
       "1664010    1535\n",
       "2118461    1481\n",
       "Name: movie_ratings, dtype: int64"
      ]
     },
     "execution_count": 13,
     "metadata": {},
     "output_type": "execute_result"
    }
   ],
   "source": [
    "rated_movie = trainingratings.groupby(\"user_Id\")[\"movie_ratings\"].count().sort_values(ascending = False)\n",
    "rated_movie.head()"
   ]
  },
  {
   "cell_type": "code",
   "execution_count": 14,
   "id": "d114a815",
   "metadata": {},
   "outputs": [
    {
     "data": {
      "text/plain": [
       "movie_Id\n",
       "6971    25468\n",
       "6287    24393\n",
       "4640    23525\n",
       "9728    23184\n",
       "8596    23005\n",
       "Name: movie_ratings, dtype: int64"
      ]
     },
     "execution_count": 14,
     "metadata": {},
     "output_type": "execute_result"
    }
   ],
   "source": [
    "rated_movies = trainingratings.groupby(\"movie_Id\")[\"movie_ratings\"].count().sort_values(ascending = False)\n",
    "rated_movies.head()"
   ]
  },
  {
   "cell_type": "code",
   "execution_count": 15,
   "id": "1c2527be",
   "metadata": {},
   "outputs": [
    {
     "data": {
      "text/html": [
       "<div>\n",
       "<style scoped>\n",
       "    .dataframe tbody tr th:only-of-type {\n",
       "        vertical-align: middle;\n",
       "    }\n",
       "\n",
       "    .dataframe tbody tr th {\n",
       "        vertical-align: top;\n",
       "    }\n",
       "\n",
       "    .dataframe thead th {\n",
       "        text-align: right;\n",
       "    }\n",
       "</style>\n",
       "<table border=\"1\" class=\"dataframe\">\n",
       "  <thead>\n",
       "    <tr style=\"text-align: right;\">\n",
       "      <th>movie_Id</th>\n",
       "      <th>8</th>\n",
       "      <th>28</th>\n",
       "      <th>43</th>\n",
       "      <th>48</th>\n",
       "      <th>61</th>\n",
       "      <th>64</th>\n",
       "      <th>66</th>\n",
       "      <th>92</th>\n",
       "      <th>96</th>\n",
       "      <th>111</th>\n",
       "      <th>...</th>\n",
       "      <th>17654</th>\n",
       "      <th>17660</th>\n",
       "      <th>17689</th>\n",
       "      <th>17693</th>\n",
       "      <th>17706</th>\n",
       "      <th>17725</th>\n",
       "      <th>17728</th>\n",
       "      <th>17734</th>\n",
       "      <th>17741</th>\n",
       "      <th>17742</th>\n",
       "    </tr>\n",
       "    <tr>\n",
       "      <th>user_Id</th>\n",
       "      <th></th>\n",
       "      <th></th>\n",
       "      <th></th>\n",
       "      <th></th>\n",
       "      <th></th>\n",
       "      <th></th>\n",
       "      <th></th>\n",
       "      <th></th>\n",
       "      <th></th>\n",
       "      <th></th>\n",
       "      <th></th>\n",
       "      <th></th>\n",
       "      <th></th>\n",
       "      <th></th>\n",
       "      <th></th>\n",
       "      <th></th>\n",
       "      <th></th>\n",
       "      <th></th>\n",
       "      <th></th>\n",
       "      <th></th>\n",
       "      <th></th>\n",
       "    </tr>\n",
       "  </thead>\n",
       "  <tbody>\n",
       "    <tr>\n",
       "      <th>7</th>\n",
       "      <td>5.0</td>\n",
       "      <td>4.0</td>\n",
       "      <td>NaN</td>\n",
       "      <td>NaN</td>\n",
       "      <td>NaN</td>\n",
       "      <td>NaN</td>\n",
       "      <td>NaN</td>\n",
       "      <td>NaN</td>\n",
       "      <td>NaN</td>\n",
       "      <td>NaN</td>\n",
       "      <td>...</td>\n",
       "      <td>NaN</td>\n",
       "      <td>NaN</td>\n",
       "      <td>NaN</td>\n",
       "      <td>NaN</td>\n",
       "      <td>NaN</td>\n",
       "      <td>NaN</td>\n",
       "      <td>NaN</td>\n",
       "      <td>NaN</td>\n",
       "      <td>NaN</td>\n",
       "      <td>NaN</td>\n",
       "    </tr>\n",
       "    <tr>\n",
       "      <th>79</th>\n",
       "      <td>NaN</td>\n",
       "      <td>NaN</td>\n",
       "      <td>NaN</td>\n",
       "      <td>NaN</td>\n",
       "      <td>NaN</td>\n",
       "      <td>NaN</td>\n",
       "      <td>NaN</td>\n",
       "      <td>NaN</td>\n",
       "      <td>NaN</td>\n",
       "      <td>NaN</td>\n",
       "      <td>...</td>\n",
       "      <td>NaN</td>\n",
       "      <td>NaN</td>\n",
       "      <td>NaN</td>\n",
       "      <td>NaN</td>\n",
       "      <td>NaN</td>\n",
       "      <td>NaN</td>\n",
       "      <td>NaN</td>\n",
       "      <td>NaN</td>\n",
       "      <td>NaN</td>\n",
       "      <td>NaN</td>\n",
       "    </tr>\n",
       "    <tr>\n",
       "      <th>199</th>\n",
       "      <td>NaN</td>\n",
       "      <td>NaN</td>\n",
       "      <td>NaN</td>\n",
       "      <td>NaN</td>\n",
       "      <td>NaN</td>\n",
       "      <td>NaN</td>\n",
       "      <td>NaN</td>\n",
       "      <td>NaN</td>\n",
       "      <td>NaN</td>\n",
       "      <td>4.0</td>\n",
       "      <td>...</td>\n",
       "      <td>NaN</td>\n",
       "      <td>NaN</td>\n",
       "      <td>NaN</td>\n",
       "      <td>NaN</td>\n",
       "      <td>NaN</td>\n",
       "      <td>NaN</td>\n",
       "      <td>NaN</td>\n",
       "      <td>NaN</td>\n",
       "      <td>NaN</td>\n",
       "      <td>NaN</td>\n",
       "    </tr>\n",
       "    <tr>\n",
       "      <th>481</th>\n",
       "      <td>NaN</td>\n",
       "      <td>NaN</td>\n",
       "      <td>NaN</td>\n",
       "      <td>NaN</td>\n",
       "      <td>NaN</td>\n",
       "      <td>NaN</td>\n",
       "      <td>NaN</td>\n",
       "      <td>NaN</td>\n",
       "      <td>NaN</td>\n",
       "      <td>5.0</td>\n",
       "      <td>...</td>\n",
       "      <td>NaN</td>\n",
       "      <td>NaN</td>\n",
       "      <td>NaN</td>\n",
       "      <td>NaN</td>\n",
       "      <td>NaN</td>\n",
       "      <td>NaN</td>\n",
       "      <td>NaN</td>\n",
       "      <td>NaN</td>\n",
       "      <td>NaN</td>\n",
       "      <td>NaN</td>\n",
       "    </tr>\n",
       "    <tr>\n",
       "      <th>769</th>\n",
       "      <td>NaN</td>\n",
       "      <td>NaN</td>\n",
       "      <td>NaN</td>\n",
       "      <td>NaN</td>\n",
       "      <td>NaN</td>\n",
       "      <td>NaN</td>\n",
       "      <td>NaN</td>\n",
       "      <td>NaN</td>\n",
       "      <td>NaN</td>\n",
       "      <td>NaN</td>\n",
       "      <td>...</td>\n",
       "      <td>NaN</td>\n",
       "      <td>NaN</td>\n",
       "      <td>NaN</td>\n",
       "      <td>NaN</td>\n",
       "      <td>NaN</td>\n",
       "      <td>NaN</td>\n",
       "      <td>NaN</td>\n",
       "      <td>NaN</td>\n",
       "      <td>NaN</td>\n",
       "      <td>NaN</td>\n",
       "    </tr>\n",
       "  </tbody>\n",
       "</table>\n",
       "<p>5 rows × 1821 columns</p>\n",
       "</div>"
      ],
      "text/plain": [
       "movie_Id  8      28     43     48     61     64     66     92     96     \\\n",
       "user_Id                                                                   \n",
       "7           5.0    4.0    NaN    NaN    NaN    NaN    NaN    NaN    NaN   \n",
       "79          NaN    NaN    NaN    NaN    NaN    NaN    NaN    NaN    NaN   \n",
       "199         NaN    NaN    NaN    NaN    NaN    NaN    NaN    NaN    NaN   \n",
       "481         NaN    NaN    NaN    NaN    NaN    NaN    NaN    NaN    NaN   \n",
       "769         NaN    NaN    NaN    NaN    NaN    NaN    NaN    NaN    NaN   \n",
       "\n",
       "movie_Id  111    ...  17654  17660  17689  17693  17706  17725  17728  17734  \\\n",
       "user_Id          ...                                                           \n",
       "7           NaN  ...    NaN    NaN    NaN    NaN    NaN    NaN    NaN    NaN   \n",
       "79          NaN  ...    NaN    NaN    NaN    NaN    NaN    NaN    NaN    NaN   \n",
       "199         4.0  ...    NaN    NaN    NaN    NaN    NaN    NaN    NaN    NaN   \n",
       "481         5.0  ...    NaN    NaN    NaN    NaN    NaN    NaN    NaN    NaN   \n",
       "769         NaN  ...    NaN    NaN    NaN    NaN    NaN    NaN    NaN    NaN   \n",
       "\n",
       "movie_Id  17741  17742  \n",
       "user_Id                 \n",
       "7           NaN    NaN  \n",
       "79          NaN    NaN  \n",
       "199         NaN    NaN  \n",
       "481         NaN    NaN  \n",
       "769         NaN    NaN  \n",
       "\n",
       "[5 rows x 1821 columns]"
      ]
     },
     "execution_count": 15,
     "metadata": {},
     "output_type": "execute_result"
    }
   ],
   "source": [
    "item_rate = trainingratings.pivot_table(index='user_Id', columns='movie_Id', values='movie_ratings')\n",
    "item_rate.head()"
   ]
  },
  {
   "cell_type": "code",
   "execution_count": 16,
   "id": "34fad2bb",
   "metadata": {},
   "outputs": [
    {
     "data": {
      "text/html": [
       "<div>\n",
       "<style scoped>\n",
       "    .dataframe tbody tr th:only-of-type {\n",
       "        vertical-align: middle;\n",
       "    }\n",
       "\n",
       "    .dataframe tbody tr th {\n",
       "        vertical-align: top;\n",
       "    }\n",
       "\n",
       "    .dataframe thead th {\n",
       "        text-align: right;\n",
       "    }\n",
       "</style>\n",
       "<table border=\"1\" class=\"dataframe\">\n",
       "  <thead>\n",
       "    <tr style=\"text-align: right;\">\n",
       "      <th>movie_Id</th>\n",
       "      <th>8</th>\n",
       "      <th>28</th>\n",
       "      <th>43</th>\n",
       "      <th>48</th>\n",
       "      <th>61</th>\n",
       "      <th>64</th>\n",
       "      <th>66</th>\n",
       "      <th>92</th>\n",
       "      <th>96</th>\n",
       "      <th>111</th>\n",
       "      <th>...</th>\n",
       "      <th>17654</th>\n",
       "      <th>17660</th>\n",
       "      <th>17689</th>\n",
       "      <th>17693</th>\n",
       "      <th>17706</th>\n",
       "      <th>17725</th>\n",
       "      <th>17728</th>\n",
       "      <th>17734</th>\n",
       "      <th>17741</th>\n",
       "      <th>17742</th>\n",
       "    </tr>\n",
       "    <tr>\n",
       "      <th>user_Id</th>\n",
       "      <th></th>\n",
       "      <th></th>\n",
       "      <th></th>\n",
       "      <th></th>\n",
       "      <th></th>\n",
       "      <th></th>\n",
       "      <th></th>\n",
       "      <th></th>\n",
       "      <th></th>\n",
       "      <th></th>\n",
       "      <th></th>\n",
       "      <th></th>\n",
       "      <th></th>\n",
       "      <th></th>\n",
       "      <th></th>\n",
       "      <th></th>\n",
       "      <th></th>\n",
       "      <th></th>\n",
       "      <th></th>\n",
       "      <th></th>\n",
       "      <th></th>\n",
       "    </tr>\n",
       "  </thead>\n",
       "  <tbody>\n",
       "    <tr>\n",
       "      <th>7</th>\n",
       "      <td>5.0</td>\n",
       "      <td>4.0</td>\n",
       "      <td>0.0</td>\n",
       "      <td>0.0</td>\n",
       "      <td>0.0</td>\n",
       "      <td>0.0</td>\n",
       "      <td>0.0</td>\n",
       "      <td>0.0</td>\n",
       "      <td>0.0</td>\n",
       "      <td>0.0</td>\n",
       "      <td>...</td>\n",
       "      <td>0.0</td>\n",
       "      <td>0.0</td>\n",
       "      <td>0.0</td>\n",
       "      <td>0.0</td>\n",
       "      <td>0.0</td>\n",
       "      <td>0.0</td>\n",
       "      <td>0.0</td>\n",
       "      <td>0.0</td>\n",
       "      <td>0.0</td>\n",
       "      <td>0.0</td>\n",
       "    </tr>\n",
       "    <tr>\n",
       "      <th>79</th>\n",
       "      <td>0.0</td>\n",
       "      <td>0.0</td>\n",
       "      <td>0.0</td>\n",
       "      <td>0.0</td>\n",
       "      <td>0.0</td>\n",
       "      <td>0.0</td>\n",
       "      <td>0.0</td>\n",
       "      <td>0.0</td>\n",
       "      <td>0.0</td>\n",
       "      <td>0.0</td>\n",
       "      <td>...</td>\n",
       "      <td>0.0</td>\n",
       "      <td>0.0</td>\n",
       "      <td>0.0</td>\n",
       "      <td>0.0</td>\n",
       "      <td>0.0</td>\n",
       "      <td>0.0</td>\n",
       "      <td>0.0</td>\n",
       "      <td>0.0</td>\n",
       "      <td>0.0</td>\n",
       "      <td>0.0</td>\n",
       "    </tr>\n",
       "    <tr>\n",
       "      <th>199</th>\n",
       "      <td>0.0</td>\n",
       "      <td>0.0</td>\n",
       "      <td>0.0</td>\n",
       "      <td>0.0</td>\n",
       "      <td>0.0</td>\n",
       "      <td>0.0</td>\n",
       "      <td>0.0</td>\n",
       "      <td>0.0</td>\n",
       "      <td>0.0</td>\n",
       "      <td>4.0</td>\n",
       "      <td>...</td>\n",
       "      <td>0.0</td>\n",
       "      <td>0.0</td>\n",
       "      <td>0.0</td>\n",
       "      <td>0.0</td>\n",
       "      <td>0.0</td>\n",
       "      <td>0.0</td>\n",
       "      <td>0.0</td>\n",
       "      <td>0.0</td>\n",
       "      <td>0.0</td>\n",
       "      <td>0.0</td>\n",
       "    </tr>\n",
       "    <tr>\n",
       "      <th>481</th>\n",
       "      <td>0.0</td>\n",
       "      <td>0.0</td>\n",
       "      <td>0.0</td>\n",
       "      <td>0.0</td>\n",
       "      <td>0.0</td>\n",
       "      <td>0.0</td>\n",
       "      <td>0.0</td>\n",
       "      <td>0.0</td>\n",
       "      <td>0.0</td>\n",
       "      <td>5.0</td>\n",
       "      <td>...</td>\n",
       "      <td>0.0</td>\n",
       "      <td>0.0</td>\n",
       "      <td>0.0</td>\n",
       "      <td>0.0</td>\n",
       "      <td>0.0</td>\n",
       "      <td>0.0</td>\n",
       "      <td>0.0</td>\n",
       "      <td>0.0</td>\n",
       "      <td>0.0</td>\n",
       "      <td>0.0</td>\n",
       "    </tr>\n",
       "    <tr>\n",
       "      <th>769</th>\n",
       "      <td>0.0</td>\n",
       "      <td>0.0</td>\n",
       "      <td>0.0</td>\n",
       "      <td>0.0</td>\n",
       "      <td>0.0</td>\n",
       "      <td>0.0</td>\n",
       "      <td>0.0</td>\n",
       "      <td>0.0</td>\n",
       "      <td>0.0</td>\n",
       "      <td>0.0</td>\n",
       "      <td>...</td>\n",
       "      <td>0.0</td>\n",
       "      <td>0.0</td>\n",
       "      <td>0.0</td>\n",
       "      <td>0.0</td>\n",
       "      <td>0.0</td>\n",
       "      <td>0.0</td>\n",
       "      <td>0.0</td>\n",
       "      <td>0.0</td>\n",
       "      <td>0.0</td>\n",
       "      <td>0.0</td>\n",
       "    </tr>\n",
       "  </tbody>\n",
       "</table>\n",
       "<p>5 rows × 1821 columns</p>\n",
       "</div>"
      ],
      "text/plain": [
       "movie_Id  8      28     43     48     61     64     66     92     96     \\\n",
       "user_Id                                                                   \n",
       "7           5.0    4.0    0.0    0.0    0.0    0.0    0.0    0.0    0.0   \n",
       "79          0.0    0.0    0.0    0.0    0.0    0.0    0.0    0.0    0.0   \n",
       "199         0.0    0.0    0.0    0.0    0.0    0.0    0.0    0.0    0.0   \n",
       "481         0.0    0.0    0.0    0.0    0.0    0.0    0.0    0.0    0.0   \n",
       "769         0.0    0.0    0.0    0.0    0.0    0.0    0.0    0.0    0.0   \n",
       "\n",
       "movie_Id  111    ...  17654  17660  17689  17693  17706  17725  17728  17734  \\\n",
       "user_Id          ...                                                           \n",
       "7           0.0  ...    0.0    0.0    0.0    0.0    0.0    0.0    0.0    0.0   \n",
       "79          0.0  ...    0.0    0.0    0.0    0.0    0.0    0.0    0.0    0.0   \n",
       "199         4.0  ...    0.0    0.0    0.0    0.0    0.0    0.0    0.0    0.0   \n",
       "481         5.0  ...    0.0    0.0    0.0    0.0    0.0    0.0    0.0    0.0   \n",
       "769         0.0  ...    0.0    0.0    0.0    0.0    0.0    0.0    0.0    0.0   \n",
       "\n",
       "movie_Id  17741  17742  \n",
       "user_Id                 \n",
       "7           0.0    0.0  \n",
       "79          0.0    0.0  \n",
       "199         0.0    0.0  \n",
       "481         0.0    0.0  \n",
       "769         0.0    0.0  \n",
       "\n",
       "[5 rows x 1821 columns]"
      ]
     },
     "execution_count": 16,
     "metadata": {},
     "output_type": "execute_result"
    }
   ],
   "source": [
    "item_rate.fillna(0, inplace = True)\n",
    "item_rate.head()"
   ]
  },
  {
   "cell_type": "code",
   "execution_count": 17,
   "id": "7566a2f8",
   "metadata": {},
   "outputs": [],
   "source": [
    "Train= train_r.join(m_t,train_r.user_Id==m_t.ID)\n",
    "test = test_r.join(m_t,test_r.user_Id==m_t.ID)"
   ]
  },
  {
   "cell_type": "code",
   "execution_count": 18,
   "id": "f2fe05bb",
   "metadata": {},
   "outputs": [
    {
     "name": "stderr",
     "output_type": "stream",
     "text": [
      "                                                                                \r"
     ]
    },
    {
     "name": "stdout",
     "output_type": "stream",
     "text": [
      "Training: 2441613, validation: 813739\n",
      "\n",
      "+--------+-------+-------------+\n",
      "|movie_Id|user_Id|movie_ratings|\n",
      "+--------+-------+-------------+\n",
      "|       8|   1333|          3.0|\n",
      "|       8|   3363|          2.0|\n",
      "|       8|   3604|          3.0|\n",
      "+--------+-------+-------------+\n",
      "only showing top 3 rows\n",
      "\n",
      "+--------+-------+-------------+\n",
      "|movie_Id|user_Id|movie_ratings|\n",
      "+--------+-------+-------------+\n",
      "|       8|      7|          5.0|\n",
      "|       8|   3321|          1.0|\n",
      "|       8|   4706|          5.0|\n",
      "+--------+-------+-------------+\n",
      "only showing top 3 rows\n",
      "\n"
     ]
    }
   ],
   "source": [
    "(split_60_df, split_a_20_df ) = train_r.randomSplit([7.5, 2.5])\n",
    "train_df = split_60_df.cache()\n",
    "validation_df = split_a_20_df.cache()\n",
    "print('Training: {0}, validation: {1}\\n'.format(\n",
    "  train_df.count(), validation_df.count())\n",
    ")\n",
    "train_df.show(3)\n",
    "validation_df.show(3)\n"
   ]
  },
  {
   "cell_type": "code",
   "execution_count": 19,
   "id": "2facf783",
   "metadata": {},
   "outputs": [
    {
     "name": "stderr",
     "output_type": "stream",
     "text": [
      "[Stage 157:================================================>    (183 + 8) / 200]"
     ]
    },
    {
     "name": "stdout",
     "output_type": "stream",
     "text": [
      "The mdl had a MAE on the test set of 1.0349200885034051\n",
      "The mdl had a RMSE on the test set of 1.0710595895878958\n"
     ]
    },
    {
     "name": "stderr",
     "output_type": "stream",
     "text": [
      "                                                                                \r"
     ]
    }
   ],
   "source": [
    "als = ALS(maxIter=10, regParam=0.5, userCol=\"user_Id\", \n",
    "                      itemCol = \"movie_Id\", ratingCol = \"movie_ratings\", coldStartStrategy = \"drop\")\n",
    "\n",
    "mdl = als.fit(train_df)\n",
    "prediction = mdl.transform(validation_df)\n",
    "e1 = RegressionEvaluator(metricName=\"mse\", labelCol=\"movie_ratings\",\n",
    "                                predictionCol=\"prediction\")\n",
    "                                            \n",
    "e2 = RegressionEvaluator(metricName=\"rmse\", labelCol=\"movie_ratings\",\n",
    "                                predictionCol=\"prediction\")\n",
    "rmse = e1.evaluate(prediction)\n",
    "mse = e2.evaluate(prediction)\n",
    "print('The mdl had a MAE on the test set of {0}'.format(mse))\n",
    "print('The mdl had a RMSE on the test set of {0}'.format(rmse))"
   ]
  },
  {
   "cell_type": "code",
   "execution_count": 20,
   "id": "c3305e0f",
   "metadata": {},
   "outputs": [
    {
     "name": "stderr",
     "output_type": "stream",
     "text": [
      "[Stage 217:============================================>        (169 + 8) / 200]"
     ]
    },
    {
     "name": "stdout",
     "output_type": "stream",
     "text": [
      "The mdl had a MAE on the test set of 1.0737032071438795\n",
      "The mdl had a RMSE on the test set of 1.0361965099072084\n"
     ]
    },
    {
     "name": "stderr",
     "output_type": "stream",
     "text": [
      "                                                                                \r"
     ]
    }
   ],
   "source": [
    "pred_df = mdl.transform(test_r)\n",
    "pred_test_df = pred_df.filter(pred_df.prediction != float('nan'))\n",
    "test_MAE = e1.evaluate(pred_test_df)\n",
    "test_RMSE = e2.evaluate(pred_test_df)\n",
    "print('The mdl had a MAE on the test set of {0}'.format(test_MAE))\n",
    "print('The mdl had a RMSE on the test set of {0}'.format(test_RMSE))"
   ]
  },
  {
   "cell_type": "code",
   "execution_count": 21,
   "id": "1d41d635",
   "metadata": {},
   "outputs": [
    {
     "name": "stderr",
     "output_type": "stream",
     "text": [
      "                                                                                \r"
     ]
    },
    {
     "name": "stdout",
     "output_type": "stream",
     "text": [
      "+-------+--------------------+\n",
      "|user_Id|     recommendations|\n",
      "+-------+--------------------+\n",
      "|    481|[[3033, 4.918088]...|\n",
      "|   2678|[[3033, 3.7812984...|\n",
      "|   3595|[[3033, 3.3650842...|\n",
      "|   6460|[[3033, 3.9558783...|\n",
      "|   7284|[[3033, 4.3344574...|\n",
      "|   7576|[[3033, 4.1531143...|\n",
      "|   9597|[[3033, 3.5511618...|\n",
      "|  15191|[[3033, 4.1148443...|\n",
      "|  15846|[[3033, 4.4164057...|\n",
      "|  20461|[[3033, 3.7520041...|\n",
      "|  20774|[[3033, 3.5118697...|\n",
      "|  26258|[[3033, 4.0454116...|\n",
      "|  27608|[[3033, 4.097401]...|\n",
      "|  28346|[[3033, 3.8551772...|\n",
      "|  30941|[[3033, 3.7143762...|\n",
      "|  30976|[[3033, 4.247151]...|\n",
      "|  31203|[[3033, 3.825948]...|\n",
      "|  36822|[[3033, 4.454435]...|\n",
      "|  40851|[[3033, 3.921831]...|\n",
      "|  41068|[[3033, 3.2386353...|\n",
      "+-------+--------------------+\n",
      "only showing top 20 rows\n",
      "\n"
     ]
    },
    {
     "name": "stderr",
     "output_type": "stream",
     "text": [
      "[Stage 294:==============================================>       (87 + 8) / 100]"
     ]
    },
    {
     "name": "stdout",
     "output_type": "stream",
     "text": [
      "+--------+--------------------+\n",
      "|movie_Id|     recommendations|\n",
      "+--------+--------------------+\n",
      "|    4190|[[2307226, 3.7462...|\n",
      "|    3220|[[2307226, 3.8263...|\n",
      "|   11240|[[2307226, 4.1180...|\n",
      "|    6110|[[2307226, 4.6255...|\n",
      "|    8260|[[2307226, 3.7752...|\n",
      "|     481|[[2307226, 3.9089...|\n",
      "|    6911|[[2307226, 4.2951...|\n",
      "|   11041|[[2307226, 4.1711...|\n",
      "|   15841|[[2307226, 4.5998...|\n",
      "|   15051|[[2307226, 4.4260...|\n",
      "|    8851|[[2307226, 4.6340...|\n",
      "|    1061|[[2307226, 4.4690...|\n",
      "|   16232|[[2307226, 3.8219...|\n",
      "|    9492|[[2307226, 4.3281...|\n",
      "|     192|[[2307226, 4.0664...|\n",
      "|    9482|[[2307226, 4.8166...|\n",
      "|    6522|[[2307226, 5.3896...|\n",
      "|   10082|[[2307226, 3.3696...|\n",
      "|     122|[[2307226, 3.7026...|\n",
      "|   16283|[[2307226, 3.2823...|\n",
      "+--------+--------------------+\n",
      "only showing top 20 rows\n",
      "\n"
     ]
    },
    {
     "name": "stderr",
     "output_type": "stream",
     "text": [
      "                                                                                \r"
     ]
    }
   ],
   "source": [
    "u_rec = mdl.recommendForAllUsers(10)\n",
    "m_rec = mdl.recommendForAllItems(10)\n",
    "u_rec.show()\n",
    "m_rec.show()"
   ]
  },
  {
   "cell_type": "code",
   "execution_count": 22,
   "id": "fd6d6bde",
   "metadata": {},
   "outputs": [
    {
     "name": "stdout",
     "output_type": "stream",
     "text": [
      "My movie ratings:\n"
     ]
    },
    {
     "data": {
      "text/plain": [
       "DataFrame[user_Id: bigint, movie_Id: bigint, movie_ratings: bigint]"
      ]
     },
     "metadata": {},
     "output_type": "display_data"
    },
    {
     "name": "stderr",
     "output_type": "stream",
     "text": [
      "[Stage 321:============================>                            (4 + 4) / 8]"
     ]
    },
    {
     "name": "stdout",
     "output_type": "stream",
     "text": [
      "+-------+--------+-------------+\n",
      "|user_Id|movie_Id|movie_ratings|\n",
      "+-------+--------+-------------+\n",
      "|      1|    5326|            4|\n",
      "|      1|   11088|            3|\n",
      "|      1|   11812|            5|\n",
      "|      1|   14648|            3|\n",
      "|      1|   10947|            5|\n",
      "|      1|   12293|            5|\n",
      "|      1|    3928|            2|\n",
      "|      1|   25468|            5|\n",
      "+-------+--------+-------------+\n",
      "\n"
     ]
    },
    {
     "name": "stderr",
     "output_type": "stream",
     "text": [
      "                                                                                \r"
     ]
    }
   ],
   "source": [
    "u_id = 1\n",
    "rated_movies = [\n",
    "    (u_id, 3928,  2),\n",
    "    (u_id, 5326,  4),\n",
    "    (u_id, 25468,  5),\n",
    "    (u_id, 11088,  3),\n",
    "    (u_id, 11812,  5),\n",
    "    (u_id, 14185,  4),\n",
    "    (u_id, 14648,  3),\n",
    "    (u_id, 2290,  5),\n",
    "    (u_id, 10947,  5),\n",
    "    (u_id, 12293,  5)]\n",
    "ratings_df = sqlContext.createDataFrame(rated_movies, ['user_Id','movie_Id','movie_ratings'])\n",
    "print('My movie ratings:')\n",
    "display(ratings_df.limit(8))\n",
    "ratings_df.limit(8).show()"
   ]
  }
 ],
 "metadata": {
  "kernelspec": {
   "display_name": "Python 3 (ipykernel)",
   "language": "python",
   "name": "python3"
  },
  "language_info": {
   "codemirror_mode": {
    "name": "ipython",
    "version": 3
   },
   "file_extension": ".py",
   "mimetype": "text/x-python",
   "name": "python",
   "nbconvert_exporter": "python",
   "pygments_lexer": "ipython3",
   "version": "3.7.10"
  }
 },
 "nbformat": 4,
 "nbformat_minor": 5
}
